{
 "cells": [
  {
   "cell_type": "code",
   "execution_count": 3,
   "metadata": {},
   "outputs": [],
   "source": [
    "OPTIONS = [\n",
    "    {\n",
    "        \"text\": \"Routing Frame\",\n",
    "        \"value\":0\n",
    "    },\n",
    "     {\n",
    "        \"text\": \"Broadcast Frame\",\n",
    "        \"value\":1\n",
    "    },\n",
    "     {\n",
    "        \"text\": \"Specific Destination Frame\",\n",
    "        \"value\":2\n",
    "    }\n",
    "]"
   ]
  },
  {
   "cell_type": "code",
   "execution_count": 45,
   "metadata": {},
   "outputs": [
    {
     "name": "stdout",
     "output_type": "stream",
     "text": [
      "{'text': 'Routing Frame', 'value': 0}\n",
      "{'text': 'Broadcast Frame', 'value': 1}\n",
      "{'text': 'Specific Destination Frame', 'value': 2}\n",
      "1\n",
      "1\n",
      "1\n",
      "1\n"
     ]
    }
   ],
   "source": [
    "import tkinter as tk\n",
    "import tkinter.messagebox as msgbox\n",
    "\n",
    "class Frame(tk.Frame):\n",
    "    def __init__(self, parent):\n",
    "        super(Frame, self).__init__(parent)\n",
    "        self.label_text = tk.StringVar()\n",
    "        self.label_text.set(\"My Name Is: \")\n",
    "        self.name_text = tk.StringVar()\n",
    "\n",
    "        # control variable\n",
    "        var = tk.IntVar(root, 0)\n",
    "\n",
    "        parent.title(\"MULTIHOP PROTOCOL IN LIGHTING SYSTEM APPLICATION\")\n",
    "        tk.Label(\n",
    "            self, text=\"MULTIHOP PROTOCOL IN LIGHTING SYSTEM APPLICATION\", font=(\"Arial\", 18)).pack(fill=tk.BOTH, expand=1, padx=100, pady=50)\n",
    "\n",
    "        # group of radiobuttons\n",
    "        for i in range(len(OPTIONS)):\n",
    "            print(OPTIONS[i])\n",
    "            tk.Radiobutton(root, text=OPTIONS[i]['text'], value=OPTIONS[\n",
    "                           i]['value'], variable=var).pack()\n",
    "\n",
    "        tk.Button(root, text='Print choice',\n",
    "                  command=lambda: print(var.get())).pack()\n",
    "\n",
    "        self.name_entry = tk.Entry(self, textvar=self.name_text)\n",
    "        self.name_entry.pack(fill=tk.BOTH, expand=1, padx=20, pady=20)\n",
    "        hello_button = tk.Button(self, text=\"Say Hello\",\n",
    "                                 command=self.say_hello)\n",
    "        hello_button.pack(side=tk.LEFT, padx=(20, 0), pady=(0, 20))\n",
    "        goodbye_button = tk.Button(self, text=\"Say Goodbye\",\n",
    "                                   command=self.say_goodbye)\n",
    "        goodbye_button.pack(side=tk.RIGHT, padx=(0, 20), pady=(0, 20))\n",
    "\n",
    "        \n",
    "\n",
    "    def say_hello(self):\n",
    "        msgbox.showinfo(\"Hello\", \"Hello World!\")\n",
    "\n",
    "    def say_goodbye(self):\n",
    "        self.label_text.set(\"Window will close in 2 seconds\")\n",
    "        msgbox.showinfo(\"Goodbye!\", \"Goodbye, it's been fun!\")\n",
    "        self.after(2000, self.destroy)\n",
    "\n",
    "\n",
    "\n",
    "if __name__ == \"__main__\":\n",
    "    root = tk.Tk()\n",
    "    main = Frame(root)\n",
    "    main.pack(fill=\"both\", expand=True)\n",
    "    root.mainloop()\n"
   ]
  },
  {
   "cell_type": "code",
   "execution_count": 8,
   "metadata": {},
   "outputs": [],
   "source": [
    "# from tkinter import *\n",
    "# window = Tk()\n",
    "# # add widgets here\n",
    "\n",
    "# window.title('Hello Python')\n",
    "# window.geometry(\"300x200+10+20\")\n",
    "# window.mainloop()\n"
   ]
  }
 ],
 "metadata": {
  "interpreter": {
   "hash": "b3ba2566441a7c06988d0923437866b63cedc61552a5af99d1f4fb67d367b25f"
  },
  "kernelspec": {
   "display_name": "Python 3.8.5 ('base')",
   "language": "python",
   "name": "python3"
  },
  "language_info": {
   "name": "python",
   "version": "3.8.5"
  },
  "orig_nbformat": 4
 },
 "nbformat": 4,
 "nbformat_minor": 2
}
